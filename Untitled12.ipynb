{
  "nbformat": 4,
  "nbformat_minor": 0,
  "metadata": {
    "colab": {
      "provenance": []
    },
    "kernelspec": {
      "name": "python3",
      "display_name": "Python 3"
    },
    "language_info": {
      "name": "python"
    }
  },
  "cells": [
    {
      "cell_type": "code",
      "execution_count": 4,
      "metadata": {
        "colab": {
          "base_uri": "https://localhost:8080/"
        },
        "id": "iVUvVAZ9n3i9",
        "outputId": "553611df-16fd-4457-afe0-d3e83d74a7bc"
      },
      "outputs": [
        {
          "output_type": "stream",
          "name": "stdout",
          "text": [
            "what would you like to select rock paper or scissors? or exit to quit : Paper\n",
            "it's a tie\n",
            "what would you like to select rock paper or scissors? or exit to quit : rock\n",
            "select from the given options only: \n",
            "what would you like to select rock paper or scissors? or exit to quit : Rock\n",
            "You win! Computer chose Scissors.\n",
            "what would you like to select rock paper or scissors? or exit to quit : Scissors\n",
            "You lose! Computer chose Rock.\n",
            "what would you like to select rock paper or scissors? or exit to quit : Paper\n",
            "You win! Computer chose Rock.\n",
            "what would you like to select rock paper or scissors? or exit to quit : exit\n",
            "User Wins: 2, Computer Wins: 1, Draws: 1\n"
          ]
        }
      ],
      "source": [
        "import random\n",
        "\n",
        "user_wins = 0\n",
        "computer_wins = 0\n",
        "draws = 0\n",
        "\n",
        "valid_option = ['Rock', 'Paper', 'Scissors', 'exit']\n",
        "\n",
        "while True:\n",
        "       user_option = input(\"what would you like to select rock paper or scissors? or exit to quit : \")\n",
        "       if user_option not in valid_option:\n",
        "          print(\"select from the given options only: \")\n",
        "          continue\n",
        "\n",
        "       random_choice = random.choice(valid_option)\n",
        "\n",
        "       if user_option == random_choice:\n",
        "            print(\"it's a tie\")\n",
        "            draws += 1\n",
        "\n",
        "       elif user_option == 'Rock' and random_choice == 'Paper':\n",
        "            print(f\"You lose! Computer chose {random_choice}.\")\n",
        "            computer_wins += 1\n",
        "\n",
        "       elif user_option == 'Rock' and random_choice == 'Scissors':\n",
        "            print(f\"You win! Computer chose {random_choice}.\")\n",
        "            user_wins += 1\n",
        "\n",
        "       elif user_option == 'Paper' and random_choice == 'Rock':\n",
        "            print(f\"You win! Computer chose {random_choice}.\")\n",
        "            user_wins += 1\n",
        "\n",
        "       elif user_option == 'Paper' and random_choice == 'Scissors':\n",
        "            print(f\"You lose! Computer chose {random_choice}.\")\n",
        "            computer_wins += 1\n",
        "\n",
        "       elif user_option == 'Scissors' and random_choice == 'Rock':\n",
        "            print(f\"You lose! Computer chose {random_choice}.\")\n",
        "            computer_wins += 1\n",
        "\n",
        "       elif user_option == 'Scissors' and random_choice == 'Paper':\n",
        "            print(f\"You win! Computer chose {random_choice}.\")\n",
        "            user_wins += 1\n",
        "\n",
        "       elif user_option == 'exit':\n",
        "            break\n",
        "\n",
        "\n",
        "print(f\"User Wins: {user_wins}, Computer Wins: {computer_wins}, Draws: {draws}\")"
      ]
    }
  ]
}